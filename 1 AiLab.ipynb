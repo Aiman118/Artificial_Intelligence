{
 "cells": [
  {
   "cell_type": "code",
   "execution_count": 3,
   "id": "29b0db80-05ce-4bde-95d8-9566bcb39930",
   "metadata": {},
   "outputs": [
    {
     "name": "stdout",
     "output_type": "stream",
     "text": [
      "Aiman Aziz\n",
      "age : 22\n",
      "Address : XYZ\n",
      "3165743218\n",
      "aimanaziz706@gmail.com\n",
      "38301_6554789\n"
     ]
    }
   ],
   "source": [
    " print(\"Aiman Aziz\")\n",
    " print(\"age : 22\")\n",
    " print(\"Address : XYZ\")\n",
    " print(\"3165743218\")\n",
    " print(\"aimanaziz706@gmail.com\")\n",
    " print(\"38301_6554789\")"
   ]
  },
  {
   "cell_type": "code",
   "execution_count": 15,
   "id": "3b7e67d3-b1d6-4d04-85fa-e7623be1b0fd",
   "metadata": {},
   "outputs": [
    {
     "name": "stdin",
     "output_type": "stream",
     "text": [
      "Sap : 27664\n",
      "Name : Aiman\n"
     ]
    },
    {
     "name": "stdout",
     "output_type": "stream",
     "text": [
      "Hey 'Aiman', your age is 27664\n"
     ]
    },
    {
     "ename": "AttributeError",
     "evalue": "'NoneType' object has no attribute 'formated'",
     "output_type": "error",
     "traceback": [
      "\u001b[1;31m---------------------------------------------------------------------------\u001b[0m",
      "\u001b[1;31mAttributeError\u001b[0m                            Traceback (most recent call last)",
      "Cell \u001b[1;32mIn[15], line 3\u001b[0m\n\u001b[0;32m      1\u001b[0m a \u001b[38;5;241m=\u001b[39m \u001b[38;5;28minput\u001b[39m(\u001b[38;5;124m\"\u001b[39m\u001b[38;5;124mSap :\u001b[39m\u001b[38;5;124m\"\u001b[39m)\n\u001b[0;32m      2\u001b[0m b \u001b[38;5;241m=\u001b[39m \u001b[38;5;28minput\u001b[39m(\u001b[38;5;124m\"\u001b[39m\u001b[38;5;124mName :\u001b[39m\u001b[38;5;124m\"\u001b[39m)\n\u001b[1;32m----> 3\u001b[0m \u001b[38;5;28mprint\u001b[39m(\u001b[38;5;124mf\u001b[39m\u001b[38;5;124m\"\u001b[39m\u001b[38;5;124mHey \u001b[39m\u001b[38;5;124m'\u001b[39m\u001b[38;5;132;01m{\u001b[39;00mb\u001b[38;5;132;01m}\u001b[39;00m\u001b[38;5;124m'\u001b[39m\u001b[38;5;124m, your age is \u001b[39m\u001b[38;5;132;01m{\u001b[39;00ma\u001b[38;5;132;01m}\u001b[39;00m\u001b[38;5;124m\"\u001b[39m)\u001b[38;5;241m.\u001b[39mformated(a)(b)\n",
      "\u001b[1;31mAttributeError\u001b[0m: 'NoneType' object has no attribute 'formated'"
     ]
    }
   ],
   "source": [
    "a = input(\"Sap :\")\n",
    "b = input(\"Name :\")\n",
    "print(f\"Hey {b}, your age is {a}\").formated(a)(b)"
   ]
  },
  {
   "cell_type": "code",
   "execution_count": 12,
   "id": "7257495a-1952-4f56-b56d-49e93daaaf34",
   "metadata": {},
   "outputs": [
    {
     "name": "stdout",
     "output_type": "stream",
     "text": [
      "a = 15\n",
      "b = 10\n"
     ]
    }
   ],
   "source": [
    "a=10\n",
    "b=15\n",
    "a, b = b,a\n",
    "\n",
    "print(\"a =\", a)  # Output: a = 10\n",
    "print(\"b =\", b)  # Output: b = 5"
   ]
  },
  {
   "cell_type": "code",
   "execution_count": 21,
   "id": "f83866c7-6c17-4345-b58c-fc8c1ed3e68d",
   "metadata": {},
   "outputs": [
    {
     "name": "stdout",
     "output_type": "stream",
     "text": [
      "6\n",
      "8\n",
      "7\n"
     ]
    }
   ],
   "source": [
    "message=\"programing language\"\n",
    "print (message.find(\"m\"))\n",
    "print (message.find(\"n\"))\n",
    "print (message.find(\"i\"))"
   ]
  },
  {
   "cell_type": "code",
   "execution_count": null,
   "id": "f2898e30-7c7a-40ef-bbed-6b45ddcbc576",
   "metadata": {},
   "outputs": [],
   "source": []
  }
 ],
 "metadata": {
  "kernelspec": {
   "display_name": "Python 3 (ipykernel)",
   "language": "python",
   "name": "python3"
  },
  "language_info": {
   "codemirror_mode": {
    "name": "ipython",
    "version": 3
   },
   "file_extension": ".py",
   "mimetype": "text/x-python",
   "name": "python",
   "nbconvert_exporter": "python",
   "pygments_lexer": "ipython3",
   "version": "3.11.7"
  }
 },
 "nbformat": 4,
 "nbformat_minor": 5
}
