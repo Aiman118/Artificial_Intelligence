{
 "cells": [
  {
   "cell_type": "code",
   "execution_count": 1,
   "id": "ebb347fb-415a-4e8a-be46-204c4a2dace4",
   "metadata": {},
   "outputs": [
    {
     "name": "stdout",
     "output_type": "stream",
     "text": [
      "Original float array:\n",
      "[[ 1.2   3.4   5.6 ]\n",
      " [ 7.8   9.   11.12]]\n",
      "\n",
      "Converted bool array:\n",
      "[[ True  True  True]\n",
      " [ True  True  True]]\n"
     ]
    }
   ],
   "source": [
    "# TASK 1\n",
    "#Consider 2-d array and Convert all the elements of a num py array from float to Bool datatype.\n",
    "import numpy as np\n",
    "\n",
    "# Create a 2D float array\n",
    "float_array = np.array([[1.2, 3.4, 5.6],\n",
    "                       [7.8, 9.0, 11.12]])\n",
    "bool_array = float_array.astype(bool)\n",
    "\n",
    "print(\"Original float array:\")\n",
    "print(float_array)\n",
    "\n",
    "print(\"\\nConverted bool array:\")\n",
    "print(bool_array)"
   ]
  },
  {
   "cell_type": "code",
   "execution_count": 2,
   "id": "a2be0403-620d-4d59-acc9-9cf13f5fe282",
   "metadata": {},
   "outputs": [
    {
     "name": "stdout",
     "output_type": "stream",
     "text": [
      "[10, 20, 55, 30, 40]\n"
     ]
    }
   ],
   "source": [
    "#TASK 2\n",
    "#•add the element 55 at position 2.\n",
    "#•Print the updated array after the insertion.\n",
    "def insert_element(array, element, position):\n",
    "\n",
    "  if position < 0 or position > len(array):\n",
    "    raise ValueError(\"Invalid position.\")\n",
    "\n",
    "  array.insert(position, element)\n",
    "  return array\n",
    "my_array = [10, 20, 30, 40]\n",
    "new_array = insert_element(my_array, 55, 2)\n",
    "\n",
    "#updated array\n",
    "print(new_array)"
   ]
  },
  {
   "cell_type": "code",
   "execution_count": 3,
   "id": "e9091f54-066c-4680-8e28-c8fe98f2c833",
   "metadata": {},
   "outputs": [
    {
     "name": "stdout",
     "output_type": "stream",
     "text": [
      "[  0   2   4   6   8  10  12  14  16  18  20  22  24  26  28  30  32  34\n",
      "  36  38  40  42  44  46  48  50  52  54  56  58  60  62  64  66  68  70\n",
      "  72  74  76  78  80  82  84  86  88  90  92  94  96  98 100]\n"
     ]
    }
   ],
   "source": [
    "#TASK 3\n",
    "#Generate a sequence of numbers in the form of a numpy array from 0 to 100 with gaps of 2 numbers, for example: 0, 2, 4\n",
    "import numpy as np\n",
    "array = np.arange(0, 101, 2)\n",
    "\n",
    "print(array)"
   ]
  },
  {
   "cell_type": "code",
   "execution_count": 4,
   "id": "1041c7b7-20b5-4c18-b21f-98680cec8e45",
   "metadata": {},
   "outputs": [
    {
     "name": "stdout",
     "output_type": "stream",
     "text": [
      "Matrix 1:\n",
      "[[1 2]\n",
      " [3 4]]\n",
      "\n",
      "Matrix 2:\n",
      "[[5 6]\n",
      " [7 8]]\n",
      "\n",
      "Result of matrix multiplication:\n",
      "[[19 22]\n",
      " [43 50]]\n"
     ]
    }
   ],
   "source": [
    "#TASK 4\n",
    "#Given 2 numpy arrays as matrices, output the result of multiplying the 2 matrices (as a numpy array)\n",
    "import numpy as np\n",
    "\n",
    "\n",
    "matrix1 = np.array([[1, 2], [3, 4]])\n",
    "matrix2 = np.array([[5, 6], [7, 8]])\n",
    "result = np.matmul(matrix1, matrix2)\n",
    "\n",
    "print(\"Matrix 1:\")\n",
    "print(matrix1)\n",
    "\n",
    "print(\"\\nMatrix 2:\")\n",
    "print(matrix2)\n",
    "\n",
    "print(\"\\nResult of matrix multiplication:\")\n",
    "print(result)"
   ]
  },
  {
   "cell_type": "code",
   "execution_count": 5,
   "id": "9b9969c9-84bf-4249-a6f5-93a642d8e9fe",
   "metadata": {},
   "outputs": [
    {
     "name": "stdout",
     "output_type": "stream",
     "text": [
      "The number is present in the array.\n"
     ]
    }
   ],
   "source": [
    "#TASK 5\n",
    "#Consider a 1-d array and check whether the specific number is present or not?\n",
    "def is_number_present(array, number):\n",
    "  \n",
    "\n",
    "  for element in array:\n",
    "    if element == number:\n",
    "      return True\n",
    "  return False\n",
    "\n",
    "# Create an example array\n",
    "my_array = [10, 20, 30, 40, 50]\n",
    "\n",
    "# Check if the number 30 is present\n",
    "result = is_number_present(my_array, 30)\n",
    "\n",
    "if result:\n",
    "  print(\"The number is present in the array.\")\n",
    "else:\n",
    "  print(\"The number is not present in the array.\")"
   ]
  },
  {
   "cell_type": "code",
   "execution_count": null,
   "id": "eebd8e97-f033-4cc5-88a4-b5d4e3fe248d",
   "metadata": {},
   "outputs": [],
   "source": []
  }
 ],
 "metadata": {
  "kernelspec": {
   "display_name": "Python 3 (ipykernel)",
   "language": "python",
   "name": "python3"
  },
  "language_info": {
   "codemirror_mode": {
    "name": "ipython",
    "version": 3
   },
   "file_extension": ".py",
   "mimetype": "text/x-python",
   "name": "python",
   "nbconvert_exporter": "python",
   "pygments_lexer": "ipython3",
   "version": "3.11.7"
  }
 },
 "nbformat": 4,
 "nbformat_minor": 5
}
