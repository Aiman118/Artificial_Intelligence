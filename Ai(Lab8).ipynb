{
 "cells": [
  {
   "cell_type": "code",
   "execution_count": 9,
   "id": "73b84ed2-443d-454a-867f-ea1e59bf6a90",
   "metadata": {},
   "outputs": [
    {
     "name": "stdout",
     "output_type": "stream",
     "text": [
      "['A', 'B', 'D']\n"
     ]
    }
   ],
   "source": [
    "#directed Graph\n",
    "\n",
    "graph = {'A': ['B', 'C'],\n",
    "\n",
    "         'B': ['D'],\n",
    "\n",
    "         'C': ['E'],\n",
    "\n",
    "         'D': ['C', 'E'],\n",
    "\n",
    "         'E': []}\n",
    "def find_path(graph, start, end, path=[]):\n",
    "    path = path + [start]\n",
    "    if start == end:\n",
    "        return path \n",
    "    if start not in graph:\n",
    "        return None \n",
    "    for node in graph [start]: \n",
    "        if node not in path:\n",
    "            newpath = find_path(graph, node, end, path)\n",
    "        if newpath: return newpath \n",
    "    return None\n",
    "\n",
    "print (find_path (graph, 'A', 'D'))"
   ]
  },
  {
   "cell_type": "code",
   "execution_count": 10,
   "id": "b63ee449-cc91-4cb7-bbe7-14bb7a538ab9",
   "metadata": {},
   "outputs": [
    {
     "name": "stdout",
     "output_type": "stream",
     "text": [
      "Directed Weighted Graph:\n",
      "Neighbors of node 3: [4]\n",
      "Edge exists between 2 and 3: True\n",
      "Edge weight between 2 and 3: 3\n",
      "Shortest path from 1 to 6: (15, [1, 2, 3, 4, 5, 6])\n",
      "\n",
      "Undirected Unweighted Graph:\n",
      "Neighbors of node 3: [2, 4]\n",
      "Edge exists between 2 and 3: True\n"
     ]
    },
    {
     "ename": "TypeError",
     "evalue": "unsupported operand type(s) for +: 'int' and 'NoneType'",
     "output_type": "error",
     "traceback": [
      "\u001b[1;31m---------------------------------------------------------------------------\u001b[0m",
      "\u001b[1;31mTypeError\u001b[0m                                 Traceback (most recent call last)",
      "Cell \u001b[1;32mIn[10], line 74\u001b[0m\n\u001b[0;32m     72\u001b[0m \u001b[38;5;28mprint\u001b[39m(\u001b[38;5;124m\"\u001b[39m\u001b[38;5;124mNeighbors of node 3:\u001b[39m\u001b[38;5;124m\"\u001b[39m, undirected_unweighted_graph\u001b[38;5;241m.\u001b[39mget_neighbors(\u001b[38;5;241m3\u001b[39m))\n\u001b[0;32m     73\u001b[0m \u001b[38;5;28mprint\u001b[39m(\u001b[38;5;124m\"\u001b[39m\u001b[38;5;124mEdge exists between 2 and 3:\u001b[39m\u001b[38;5;124m\"\u001b[39m, undirected_unweighted_graph\u001b[38;5;241m.\u001b[39mhas_edge(\u001b[38;5;241m2\u001b[39m, \u001b[38;5;241m3\u001b[39m))\n\u001b[1;32m---> 74\u001b[0m \u001b[38;5;28mprint\u001b[39m(\u001b[38;5;124m\"\u001b[39m\u001b[38;5;124mShortest path from 1 to 6:\u001b[39m\u001b[38;5;124m\"\u001b[39m, undirected_unweighted_graph\u001b[38;5;241m.\u001b[39mshortest_path(\u001b[38;5;241m1\u001b[39m, \u001b[38;5;241m6\u001b[39m))\n",
      "Cell \u001b[1;32mIn[10], line 42\u001b[0m, in \u001b[0;36mGraph.shortest_path\u001b[1;34m(self, start, end)\u001b[0m\n\u001b[0;32m     40\u001b[0m \u001b[38;5;28;01mfor\u001b[39;00m neighbor, weight \u001b[38;5;129;01min\u001b[39;00m \u001b[38;5;28mself\u001b[39m\u001b[38;5;241m.\u001b[39madj_list[node]\u001b[38;5;241m.\u001b[39mitems():\n\u001b[0;32m     41\u001b[0m     \u001b[38;5;28;01mif\u001b[39;00m neighbor \u001b[38;5;129;01mnot\u001b[39;00m \u001b[38;5;129;01min\u001b[39;00m visited:\n\u001b[1;32m---> 42\u001b[0m         heapq\u001b[38;5;241m.\u001b[39mheappush(queue, (cost \u001b[38;5;241m+\u001b[39m weight, neighbor, path))\n",
      "\u001b[1;31mTypeError\u001b[0m: unsupported operand type(s) for +: 'int' and 'NoneType'"
     ]
    }
   ],
   "source": [
    "class Graph:\n",
    "    def __init__(self, directed=False, weighted=False):\n",
    "        self.directed = directed\n",
    "        self.weighted = weighted\n",
    "        self.adj_list = {}\n",
    "\n",
    "    def add_node(self, node):\n",
    "        if node not in self.adj_list:\n",
    "            self.adj_list[node] = {}\n",
    "\n",
    "    def add_edge(self, node1, node2, weight=None):\n",
    "        if node1 in self.adj_list and node2 in self.adj_list:\n",
    "            self.adj_list[node1][node2] = weight\n",
    "            if not self.directed:\n",
    "                self.adj_list[node2][node1] = weight\n",
    "\n",
    "    def get_neighbors(self, node):\n",
    "        return list(self.adj_list[node].keys())\n",
    "\n",
    "    def has_edge(self, node1, node2):\n",
    "        return node2 in self.adj_list[node1]\n",
    "\n",
    "    def get_edge_weight(self, node1, node2):\n",
    "        if self.has_edge(node1, node2):\n",
    "            return self.adj_list[node1][node2]\n",
    "        else:\n",
    "            return None\n",
    "\n",
    "    def shortest_path(self, start, end):\n",
    "        import heapq\n",
    "        queue = [(0, start, [])]\n",
    "        visited = set()\n",
    "        while queue:\n",
    "            (cost, node, path) = heapq.heappop(queue)\n",
    "            if node not in visited:\n",
    "                visited.add(node)\n",
    "                path = path + [node]\n",
    "                if node == end:\n",
    "                    return cost, path\n",
    "                for neighbor, weight in self.adj_list[node].items():\n",
    "                    if neighbor not in visited:\n",
    "                        heapq.heappush(queue, (cost + weight, neighbor, path))\n",
    "\n",
    "# Directed and Weighted Graph\n",
    "directed_weighted_graph = Graph(directed=True, weighted=True)\n",
    "nodes = [1, 2, 3, 4, 5, 6, 7]\n",
    "edges = [(1, 2, 5), (2, 3, 3), (3, 4, 2), (4, 5, 4), (5, 6, 1)]\n",
    "\n",
    "for node in nodes:\n",
    "    directed_weighted_graph.add_node(node)\n",
    "for edge in edges:\n",
    "    directed_weighted_graph.add_edge(*edge)\n",
    "\n",
    "# Undirected and Unweighted Graph\n",
    "undirected_unweighted_graph = Graph()\n",
    "nodes = [1, 2, 3, 4, 5, 6, 7]\n",
    "edges = [(1, 2), (2, 3), (3, 4), (4, 5), (5, 6)]\n",
    "\n",
    "for node in nodes:\n",
    "    undirected_unweighted_graph.add_node(node)\n",
    "for edge in edges:\n",
    "    undirected_unweighted_graph.add_edge(*edge)\n",
    "\n",
    "# Example Usage\n",
    "print(\"Directed Weighted Graph:\")\n",
    "print(\"Neighbors of node 3:\", directed_weighted_graph.get_neighbors(3))\n",
    "print(\"Edge exists between 2 and 3:\", directed_weighted_graph.has_edge(2, 3))\n",
    "print(\"Edge weight between 2 and 3:\", directed_weighted_graph.get_edge_weight(2, 3))\n",
    "print(\"Shortest path from 1 to 6:\", directed_weighted_graph.shortest_path(1, 6))\n",
    "\n",
    "print(\"\\nUndirected Unweighted Graph:\")\n",
    "print(\"Neighbors of node 3:\", undirected_unweighted_graph.get_neighbors(3))\n",
    "print(\"Edge exists between 2 and 3:\", undirected_unweighted_graph.has_edge(2, 3))\n",
    "print(\"Shortest path from 1 to 6:\", undirected_unweighted_graph.shortest_path(1, 6))\n"
   ]
  },
  {
   "cell_type": "code",
   "execution_count": null,
   "id": "7238145b-0294-484a-aa30-409af905582f",
   "metadata": {},
   "outputs": [],
   "source": []
  }
 ],
 "metadata": {
  "kernelspec": {
   "display_name": "Python 3 (ipykernel)",
   "language": "python",
   "name": "python3"
  },
  "language_info": {
   "codemirror_mode": {
    "name": "ipython",
    "version": 3
   },
   "file_extension": ".py",
   "mimetype": "text/x-python",
   "name": "python",
   "nbconvert_exporter": "python",
   "pygments_lexer": "ipython3",
   "version": "3.11.7"
  }
 },
 "nbformat": 4,
 "nbformat_minor": 5
}
