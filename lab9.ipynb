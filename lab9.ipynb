{
 "cells": [
  {
   "cell_type": "markdown",
   "id": "450819f0-4387-4e56-95f1-b098b00251f0",
   "metadata": {},
   "source": [
    "BFS"
   ]
  },
  {
   "cell_type": "code",
   "execution_count": 1,
   "id": "838df32d-2685-4928-9754-2d0003546c4f",
   "metadata": {},
   "outputs": [
    {
     "name": "stdout",
     "output_type": "stream",
     "text": [
      "A\n",
      "B\n",
      "C\n",
      "D\n",
      "E\n",
      "F\n"
     ]
    }
   ],
   "source": [
    "from collections import deque\n",
    "def bfs(graph, start_node):\n",
    "    visited = set()  # Track visited nodes\n",
    "    queue = deque([start_node])  # Initialize queue with the start node\n",
    "    visited.add(start_node)\n",
    "    while queue:\n",
    "        current_node = queue.popleft()\n",
    "        print(current_node)  # Process the current node (e.g., print it)\n",
    "        for neighbor in graph[current_node]:  # Check each neighbor\n",
    "            if neighbor not in visited:\n",
    "                visited.add(neighbor)\n",
    "                queue.append(neighbor)\n",
    "# Example usage\n",
    "graph = {\n",
    "    'A': ['B', 'C'],\n",
    "    'B': ['A', 'D', 'E'],\n",
    "    'C': ['A', 'F'],\n",
    "    'D': ['B'],\n",
    "    'E': ['B', 'F'],\n",
    "    'F': ['C', 'E']\n",
    "}\n",
    "\n",
    "bfs(graph, 'A')\n"
   ]
  },
  {
   "cell_type": "code",
   "execution_count": 7,
   "id": "deaf92a5-3371-4134-a88e-b181a0a6901b",
   "metadata": {},
   "outputs": [
    {
     "name": "stdout",
     "output_type": "stream",
     "text": [
      "Shortest path to goal 'E': A -> B -> E\n"
     ]
    },
    {
     "data": {
      "text/plain": [
       "['A', 'B', 'E']"
      ]
     },
     "execution_count": 7,
     "metadata": {},
     "output_type": "execute_result"
    }
   ],
   "source": [
    "from collections import deque\n",
    "def bfs_shortest_path(graph, start_node, goal):\n",
    "    visited = set()  # Track visited nodes\n",
    "    queue = deque([start_node])  # Initialize queue with the start node\n",
    "    visited.add(start_node)\n",
    "    # Dictionary to store the predecessor of each visited node\n",
    "    previous = {start_node: None}\n",
    "    while queue:\n",
    "        current_node = queue.popleft()      \n",
    "        # Check if the goal is reached\n",
    "        if current_node == goal:\n",
    "            # Reconstruct the path from start_node to goal\n",
    "            path = []\n",
    "            while current_node is not None:\n",
    "                path.append(current_node)\n",
    "                current_node = previous[current_node]  # Move to the previous['E', 'B', 'A']\n",
    "            path.reverse()  # Reverse to get the path from start to goal\n",
    "            print(f\"Shortest path to goal '{goal}':\", \" -> \".join(path))\n",
    "            return path  # Return the path for further use if needed\n",
    "       \n",
    "        for neighbor in graph[current_node]:  # neighbors are ['B', 'C']\n",
    "            if neighbor not in visited:\n",
    "                visited.add(neighbor)\n",
    "                queue.append(neighbor)      # Queue now contains B and C\n",
    "                previous[neighbor] = current_node  # Set previous = {'A': None, 'B': 'A', 'C': 'A'}\n",
    "    # If we exit the loop without finding the goal\n",
    "    print(f\"Goal '{goal}' not reachable from '{start_node}'.\")\n",
    "    return None\n",
    "# Example usage\n",
    "graph = {\n",
    "    'A': ['B', 'C'],\n",
    "    'B': ['A', 'D', 'E'],\n",
    "    'C': ['A', 'F'],\n",
    "    'D': ['B'],\n",
    "    'E': ['B', 'F'],\n",
    "    'F': ['C', 'E']\n",
    "}\n",
    "# Starting from 'A' and searching for shortest path to goal node 'E'\n",
    "bfs_shortest_path(graph, 'A', 'E')\n"
   ]
  },
  {
   "cell_type": "markdown",
   "id": "190d3480-5870-49ab-9659-65fb17b3979f",
   "metadata": {},
   "source": [
    "DFS"
   ]
  },
  {
   "cell_type": "code",
   "execution_count": 17,
   "id": "134bef6e-0d1c-43ef-9c7d-091d3fccf861",
   "metadata": {},
   "outputs": [
    {
     "name": "stdout",
     "output_type": "stream",
     "text": [
      "A\n",
      "B\n",
      "D\n",
      "E\n",
      "F\n",
      "C\n"
     ]
    }
   ],
   "source": [
    "def dfs(graph, start_node, visited=None):\n",
    "    if visited is None:\n",
    "        visited = set()  # Initialize visited set on the first call\n",
    "    visited.add(start_node)  # Mark the current node as visited\n",
    "    print(start_node)  # Process the current node (e.g., print it)\n",
    "\n",
    "    for neighbor in graph[start_node]:  # Check each neighbor\n",
    "        if neighbor not in visited:  # If the neighbor hasn't been visited\n",
    "            dfs(graph, neighbor, visited)  # Recursive call for DFS\n",
    "# Example usage\n",
    "graph = {\n",
    "    'A': ['B', 'C'],\n",
    "    'B': ['A', 'D', 'E'],\n",
    "    'C': ['A', 'F'],\n",
    "    'D': ['B'],\n",
    "    'E': ['B', 'F'],\n",
    "    'F': ['C', 'E']\n",
    "}\n",
    "\n",
    "dfs(graph, 'A')\n"
   ]
  },
  {
   "cell_type": "code",
   "execution_count": null,
   "id": "ddf71ca3-3ac3-49ed-a6e0-2278670ea302",
   "metadata": {},
   "outputs": [],
   "source": []
  }
 ],
 "metadata": {
  "kernelspec": {
   "display_name": "Python 3 (ipykernel)",
   "language": "python",
   "name": "python3"
  },
  "language_info": {
   "codemirror_mode": {
    "name": "ipython",
    "version": 3
   },
   "file_extension": ".py",
   "mimetype": "text/x-python",
   "name": "python",
   "nbconvert_exporter": "python",
   "pygments_lexer": "ipython3",
   "version": "3.12.4"
  }
 },
 "nbformat": 4,
 "nbformat_minor": 5
}
