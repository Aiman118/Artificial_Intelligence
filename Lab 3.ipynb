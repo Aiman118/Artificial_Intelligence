{
 "cells": [
  {
   "cell_type": "code",
   "execution_count": 5,
   "id": "489e7418-733d-40b2-ab05-fb542bf2d298",
   "metadata": {},
   "outputs": [
    {
     "name": "stdin",
     "output_type": "stream",
     "text": [
      "Enter your name aiman\n",
      "sap id 27664\n"
     ]
    },
    {
     "name": "stdout",
     "output_type": "stream",
     "text": [
      " my name aiman and my sap id 27664 \n"
     ]
    }
   ],
   "source": [
    "name = input(\"Enter your name\")\n",
    "sap  = input(\"sap id\")      \n",
    "#print(\"My name is \"+name+\" \"+\"and sap id \"+sap)\n",
    "print(\" my name {} and my sap id {} \".format(name,sap))"
   ]
  },
  {
   "cell_type": "code",
   "execution_count": 7,
   "id": "9ea1f1b4-6dc9-4153-a449-a2ecd79b5a0f",
   "metadata": {},
   "outputs": [
    {
     "name": "stdin",
     "output_type": "stream",
     "text": [
      "Enter your name aiman\n"
     ]
    },
    {
     "name": "stdout",
     "output_type": "stream",
     "text": [
      "<class 'int'>\n"
     ]
    }
   ],
   "source": [
    "name = input(\"Enter your name\")\n",
    "age=23\n",
    "print(type(age))"
   ]
  },
  {
   "cell_type": "code",
   "execution_count": 10,
   "id": "4a19216e-0b95-41ae-8e2b-26daeca6e427",
   "metadata": {},
   "outputs": [
    {
     "name": "stdout",
     "output_type": "stream",
     "text": [
      "aliSARA\n",
      "7\n"
     ]
    }
   ],
   "source": [
    "str1=\"ALI\"\n",
    "str2=\"Sara\"\n",
    "str3=str1.lower()+str2.upper()\n",
    "print(str3)\n",
    "print(len(str3))"
   ]
  },
  {
   "cell_type": "code",
   "execution_count": 11,
   "id": "07190b90-b15c-45b1-ba1f-325b2716a653",
   "metadata": {},
   "outputs": [
    {
     "name": "stdin",
     "output_type": "stream",
     "text": [
      "Enter number 22\n"
     ]
    },
    {
     "name": "stdout",
     "output_type": "stream",
     "text": [
      "False\n"
     ]
    }
   ],
   "source": [
    "x= int(input(\"Enter number\"))\n",
    "x1=2023\n",
    "print(x==x1)\n"
   ]
  },
  {
   "cell_type": "code",
   "execution_count": 20,
   "id": "8b0c72ef-282a-4de7-90f8-96a03999b172",
   "metadata": {},
   "outputs": [
    {
     "name": "stdout",
     "output_type": "stream",
     "text": [
      "o Wor\n"
     ]
    }
   ],
   "source": [
    "msg=\"Hello World\"\n",
    "print(msg[-7:-2:1])"
   ]
  },
  {
   "cell_type": "code",
   "execution_count": 23,
   "id": "1ef62151-4dbc-41c0-9f50-9f59ec4eb66c",
   "metadata": {},
   "outputs": [
    {
     "name": "stdout",
     "output_type": "stream",
     "text": [
      "['Apple', 'Banana', 'Grapes', 'Mango']\n",
      "<class 'list'>\n"
     ]
    }
   ],
   "source": [
    "list=[\"Apple\",\"Mango\",\"Banana\",\"Grapes\"]\n",
    "list.sort()\n",
    "print(list)\n",
    "print(type(list))\n"
   ]
  },
  {
   "cell_type": "code",
   "execution_count": 36,
   "id": "2dd67d49-d847-4a03-b42b-d086b6bb2498",
   "metadata": {},
   "outputs": [
    {
     "name": "stdout",
     "output_type": "stream",
     "text": [
      "[38, 37, 36, 35, 34]\n"
     ]
    }
   ],
   "source": [
    "list=[34,35,37,36,38]\n",
    "#list.append([39])\n",
    "#list.extend([39])\n",
    "list.sort(reverse=True)\n",
    "#list.reverse()\n",
    "print(list)"
   ]
  },
  {
   "cell_type": "code",
   "execution_count": null,
   "id": "99dad921-df7c-4db6-84b2-8f487c34f4e0",
   "metadata": {},
   "outputs": [],
   "source": [
    "\n",
    "info={\"name\":\"Aiman\",\n",
    "      \"age\":22,\n",
    "      \"name2\":\"Shahzad\"}\n",
    "     # print(info(\"age\"))\n",
    "print(info)\n",
    "print(type(info))\n"
   ]
  },
  {
   "cell_type": "code",
   "execution_count": 39,
   "id": "ac0f4c5b-db2f-47b3-8117-0d087bc49069",
   "metadata": {},
   "outputs": [],
   "source": [
    "list=[\"Apple\",\"Mango\"]\n",
    "for x in list:\n",
    "    pass\n",
    "    #print(list)"
   ]
  },
  {
   "cell_type": "code",
   "execution_count": null,
   "id": "5391a3b2-0c16-4232-9c78-31030647bf6d",
   "metadata": {},
   "outputs": [],
   "source": []
  },
  {
   "cell_type": "code",
   "execution_count": null,
   "id": "8f09bd62-fe22-4699-a4de-685541f886b0",
   "metadata": {},
   "outputs": [],
   "source": []
  },
  {
   "cell_type": "code",
   "execution_count": null,
   "id": "bc0095a8-eb51-43a7-8997-19e5c02f43d5",
   "metadata": {},
   "outputs": [],
   "source": []
  }
 ],
 "metadata": {
  "kernelspec": {
   "display_name": "Python 3 (ipykernel)",
   "language": "python",
   "name": "python3"
  },
  "language_info": {
   "codemirror_mode": {
    "name": "ipython",
    "version": 3
   },
   "file_extension": ".py",
   "mimetype": "text/x-python",
   "name": "python",
   "nbconvert_exporter": "python",
   "pygments_lexer": "ipython3",
   "version": "3.11.7"
  }
 },
 "nbformat": 4,
 "nbformat_minor": 5
}
