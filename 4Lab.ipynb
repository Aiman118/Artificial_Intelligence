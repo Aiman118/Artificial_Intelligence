{
 "cells": [
  {
   "cell_type": "code",
   "execution_count": 3,
   "id": "0561f870-2419-4fbb-9ac2-f4f293c7ba61",
   "metadata": {},
   "outputs": [
    {
     "name": "stdout",
     "output_type": "stream",
     "text": [
      "Aiman\n"
     ]
    }
   ],
   "source": [
    "def function(x):\n",
    "    print(x)\n",
    "function(\"Aiman\")\n"
   ]
  },
  {
   "cell_type": "code",
   "execution_count": 36,
   "id": "ab3761ba-b890-4a9f-996a-e703f28e2c43",
   "metadata": {},
   "outputs": [
    {
     "name": "stdout",
     "output_type": "stream",
     "text": [
      "Aiman Aziz Aiman khan\n"
     ]
    }
   ],
   "source": [
    "def function(x,y):\n",
    "    print(f\"{x} Aziz {y} khan\")\n",
    "function(\"Aiman\",\"Aiman\")   "
   ]
  },
  {
   "cell_type": "code",
   "execution_count": 6,
   "id": "4a09d35e-f614-4639-a955-2e8f5acafca7",
   "metadata": {},
   "outputs": [
    {
     "name": "stdout",
     "output_type": "stream",
     "text": [
      "Poland\n",
      "Pakistan\n"
     ]
    }
   ],
   "source": [
    "def country(x=\"Poland\"):# Default values\n",
    "    print(x)\n",
    "country()\n",
    "country(\"Pakistan\")"
   ]
  },
  {
   "cell_type": "code",
   "execution_count": 10,
   "id": "f7968711-571a-4f4b-8d76-22af3bcc1827",
   "metadata": {},
   "outputs": [
    {
     "name": "stdin",
     "output_type": "stream",
     "text": [
      "Enter number 3\n"
     ]
    },
    {
     "name": "stdout",
     "output_type": "stream",
     "text": [
      "The square is\n"
     ]
    }
   ],
   "source": [
    "def function(n):\n",
    "    n=n*2\n",
    "    return n\n",
    "num=int(input(\"Enter number\"))\n",
    "n=function(num)\n",
    "print(\"The square is\")"
   ]
  },
  {
   "cell_type": "code",
   "execution_count": 14,
   "id": "e4f7ba79-58cc-487a-845d-fc4b4d94ed63",
   "metadata": {},
   "outputs": [
    {
     "name": "stdout",
     "output_type": "stream",
     "text": [
      "24\n"
     ]
    }
   ],
   "source": [
    "def factorial(n):\n",
    "    fac=1\n",
    "    for i in range(1,n+1):\n",
    "        fac=fac*i\n",
    "    print(fac)\n",
    "factorial(4)    "
   ]
  },
  {
   "cell_type": "code",
   "execution_count": 16,
   "id": "f020890d-85c5-47cf-b134-00c376288ef2",
   "metadata": {},
   "outputs": [
    {
     "name": "stdout",
     "output_type": "stream",
     "text": [
      "['apple', 'grapes', 'banana']\n",
      "['apple', 'grapes', 'banana']\n",
      "['apple', 'grapes', 'banana']\n"
     ]
    }
   ],
   "source": [
    "list=[\"apple\",\"grapes\",\"banana\"]\n",
    "def function(list):\n",
    "    for x in list:\n",
    "        print(list)\n",
    "        #print(list,end=\"\")\n",
    "function(list)        "
   ]
  },
  {
   "cell_type": "code",
   "execution_count": 17,
   "id": "058fb979-a7ee-474d-8428-9f581cebf93c",
   "metadata": {},
   "outputs": [
    {
     "name": "stdout",
     "output_type": "stream",
     "text": [
      "Shahzad\n"
     ]
    }
   ],
   "source": [
    "class person:\n",
    "    name=\"Ali\"\n",
    "p1=person()\n",
    "print(p1.name)"
   ]
  },
  {
   "cell_type": "code",
   "execution_count": 28,
   "id": "5be84e46-3f4e-4d13-90f6-9125a59f2950",
   "metadata": {},
   "outputs": [
    {
     "name": "stdout",
     "output_type": "stream",
     "text": [
      "I am constructor\n",
      "I am constructor\n"
     ]
    }
   ],
   "source": [
    "class person:\n",
    "    def __init__(self):\n",
    "       print(\"I am constructor\")\n",
    "p1=person() \n",
    "p2=person() "
   ]
  },
  {
   "cell_type": "code",
   "execution_count": 46,
   "id": "43622383-4107-4d93-a042-aea541ec5b3d",
   "metadata": {},
   "outputs": [
    {
     "name": "stdout",
     "output_type": "stream",
     "text": [
      "Aiman 22\n",
      "Ali 28\n"
     ]
    }
   ],
   "source": [
    "class person:\n",
    "    def __init__(self,name,age):\n",
    "        self.name=name\n",
    "        self.age=age\n",
    "        print(self.name,self.age)\n",
    "#p1=person() \n",
    "#p2=person() \n",
    "p1=person(\"Aiman\",22)\n",
    "p2=person(\"Ali\",28)\n",
    "       "
   ]
  },
  {
   "cell_type": "code",
   "execution_count": 50,
   "id": "addd8bbf-903d-4ac0-a4c5-4d64abe88736",
   "metadata": {},
   "outputs": [
    {
     "name": "stdout",
     "output_type": "stream",
     "text": [
      "Aiman khan\n"
     ]
    }
   ],
   "source": [
    "class person:\n",
    "    def __init__(self,name,age):\n",
    "        self.name=name\n",
    "        self.age=age\n",
    "        print(self.name,self.age)\n",
    "class child(person):\n",
    "    def __init__(self,name,age):\n",
    "       super().__init__(name,age)  \n",
    "c1= child(\"Aiman\",\"khan\")    "
   ]
  },
  {
   "cell_type": "code",
   "execution_count": 53,
   "id": "de381c87-e324-4d4e-a690-3b13c3ae16ee",
   "metadata": {},
   "outputs": [
    {
     "name": "stdout",
     "output_type": "stream",
     "text": [
      "17\n"
     ]
    }
   ],
   "source": [
    "# Task 1\n",
    "# Sum all numbers in list\n",
    "def sum_list(numbers):\n",
    " \n",
    "  sum = 0\n",
    "  for num in numbers:\n",
    "    sum += num\n",
    "  return sum\n",
    "my_list = [7, 5, 3, 0, 2]\n",
    "result = sum_list(my_list)\n",
    "print(result)  "
   ]
  },
  {
   "cell_type": "code",
   "execution_count": 57,
   "id": "135d8529-4efe-4bd2-8a48-6c4cae4bc33d",
   "metadata": {},
   "outputs": [
    {
     "name": "stdout",
     "output_type": "stream",
     "text": [
      "Student is present.\n"
     ]
    }
   ],
   "source": [
    "#Task 2\n",
    "# Check attandence\n",
    "def check_attendance(roll_number):\n",
    "\n",
    "  attendance_data = {27664: True, 27665: False, 27668: True}  \n",
    "\n",
    "  if roll_number in attendance_data:\n",
    "    return attendance_data[roll_number]\n",
    "  else:\n",
    "    return False  \n",
    "\n",
    "roll_number = 27664\n",
    "is_present = check_attendance(roll_number)\n",
    "if is_present:\n",
    "  print(\"Student is present.\")\n",
    "else:\n",
    "  print(\"Student is absent.\")"
   ]
  },
  {
   "cell_type": "code",
   "execution_count": 59,
   "id": "241a83ae-23e4-4ad3-9a6f-0d71838131ce",
   "metadata": {},
   "outputs": [
    {
     "name": "stdout",
     "output_type": "stream",
     "text": [
      "Aiman\n",
      "28\n",
      "31\n"
     ]
    }
   ],
   "source": [
    "# Task 3\n",
    "# create class and objects\n",
    "class Person:\n",
    "    def __init__(self, name, age):\n",
    "        self.name = name\n",
    "        self.age = age\n",
    "    def greet(self):\n",
    "        print(\"Hello, my name is\", self.name)\n",
    "\n",
    "# Create objects\n",
    "person1 = Person(\"Aiman\", 22)\n",
    "person2 = Person(\"Ali\", 28)\n",
    "print(person1.name)  \n",
    "print(person2.age)   \n",
    "\n",
    "\n",
    "person1.age = 31\n",
    "print(person1.age) "
   ]
  },
  {
   "cell_type": "code",
   "execution_count": 65,
   "id": "778f593b-897c-408f-92ba-fd94307710c7",
   "metadata": {},
   "outputs": [
    {
     "name": "stdout",
     "output_type": "stream",
     "text": [
      "Name: Aiman\n",
      "Marks: 90\n",
      "Age: 22\n",
      "\n",
      "Name: Ali\n",
      "Marks: 92\n",
      "Age: 24\n",
      "\n",
      "Name: Ahmed\n",
      "Marks: 80\n",
      "Age: 28\n"
     ]
    }
   ],
   "source": [
    "# Task 4\n",
    "# Create multiple objects in single class\n",
    "class Std:\n",
    "    def __init__(self, name,age, marks):\n",
    "        self.name = name\n",
    "        self.marks = marks\n",
    "        self.age = age\n",
    "        \n",
    "    def display_info(self):\n",
    "        print(f\"Name: {self.name}\")\n",
    "        print(f\"Marks: {self.marks}\")\n",
    "        print(f\"Age: {self.age}\")\n",
    "std1 = Std(\"Aiman\", 22, 90)\n",
    "std2 = Std(\"Ali\", 24, 92)\n",
    "std3 = Std(\"Ahmed\", 28, 80)\n",
    "# Methods call\n",
    "std1.display_info()\n",
    "print()\n",
    "std2.display_info()\n",
    "print()\n",
    "std3.display_info()"
   ]
  },
  {
   "cell_type": "code",
   "execution_count": 66,
   "id": "a461f0f4-79d2-481d-bda6-7f3004b8f294",
   "metadata": {},
   "outputs": [
    {
     "name": "stdout",
     "output_type": "stream",
     "text": [
      "Average Grade: 86.25\n"
     ]
    }
   ],
   "source": [
    "# Task 5\n",
    "#Calculate average \n",
    "class Student:\n",
    "    def __init__(self, name, age, grades):\n",
    "\n",
    "        self.name = name\n",
    "        self.age = age\n",
    "        self.grades = grades\n",
    "\n",
    "    def average_grade(self):\n",
    "       \n",
    "        if not self.grades:\n",
    "            return 0  # Handle the case of no grades\n",
    "\n",
    "        total = sum(self.grades)\n",
    "        average = total / len(self.grades)\n",
    "        return average\n",
    "\n",
    "\n",
    "student1 = Student(\"Ali\", 18, [85, 92, 78, 90])\n",
    "average_grade = student1.average_grade()\n",
    "print(\"Average Grade:\", average_grade)"
   ]
  },
  {
   "cell_type": "code",
   "execution_count": null,
   "id": "6e19e7f5-1633-4570-ba05-4755e074c952",
   "metadata": {},
   "outputs": [],
   "source": []
  }
 ],
 "metadata": {
  "kernelspec": {
   "display_name": "Python 3 (ipykernel)",
   "language": "python",
   "name": "python3"
  },
  "language_info": {
   "codemirror_mode": {
    "name": "ipython",
    "version": 3
   },
   "file_extension": ".py",
   "mimetype": "text/x-python",
   "name": "python",
   "nbconvert_exporter": "python",
   "pygments_lexer": "ipython3",
   "version": "3.11.7"
  }
 },
 "nbformat": 4,
 "nbformat_minor": 5
}
